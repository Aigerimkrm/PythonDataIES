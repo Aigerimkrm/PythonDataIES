{
 "cells": [
  {
   "cell_type": "code",
   "execution_count": 105,
   "metadata": {},
   "outputs": [],
   "source": [
    "import pandas as pd\n",
    "import numpy as np\n",
    "import matplotlib.pyplot as plt\n"
   ]
  },
  {
   "cell_type": "code",
   "execution_count": 20,
   "metadata": {},
   "outputs": [],
   "source": [
    "aap_df = pd.read_csv(\"AAP.csv\")\n",
    "ge_df = pd.read_csv(\"GE.csv\")\n",
    "irm_df = pd.read_csv(\"IRM.csv\")\n",
    "ivz_df = pd.read_csv(\"IVZ.csv\")\n",
    "trgp_df = pd.read_csv(\"TRGP.csv\")\n"
   ]
  },
  {
   "cell_type": "code",
   "execution_count": 69,
   "metadata": {},
   "outputs": [
    {
     "data": {
      "text/html": [
       "<div>\n",
       "<style scoped>\n",
       "    .dataframe tbody tr th:only-of-type {\n",
       "        vertical-align: middle;\n",
       "    }\n",
       "\n",
       "    .dataframe tbody tr th {\n",
       "        vertical-align: top;\n",
       "    }\n",
       "\n",
       "    .dataframe thead th {\n",
       "        text-align: right;\n",
       "    }\n",
       "</style>\n",
       "<table border=\"1\" class=\"dataframe\">\n",
       "  <thead>\n",
       "    <tr style=\"text-align: right;\">\n",
       "      <th></th>\n",
       "      <th>Date</th>\n",
       "      <th>High</th>\n",
       "      <th>Low</th>\n",
       "      <th>Open</th>\n",
       "      <th>Close</th>\n",
       "      <th>Volume</th>\n",
       "      <th>Adj Close</th>\n",
       "    </tr>\n",
       "  </thead>\n",
       "  <tbody>\n",
       "    <tr>\n",
       "      <th>0</th>\n",
       "      <td>2017-11-13</td>\n",
       "      <td>82.820000</td>\n",
       "      <td>80.459999</td>\n",
       "      <td>80.720001</td>\n",
       "      <td>82.279999</td>\n",
       "      <td>3894500.0</td>\n",
       "      <td>78.120506</td>\n",
       "    </tr>\n",
       "    <tr>\n",
       "      <th>1</th>\n",
       "      <td>2017-11-14</td>\n",
       "      <td>102.889999</td>\n",
       "      <td>94.750000</td>\n",
       "      <td>94.879997</td>\n",
       "      <td>95.720001</td>\n",
       "      <td>10153800.0</td>\n",
       "      <td>90.881088</td>\n",
       "    </tr>\n",
       "    <tr>\n",
       "      <th>2</th>\n",
       "      <td>2017-11-15</td>\n",
       "      <td>95.489998</td>\n",
       "      <td>91.370003</td>\n",
       "      <td>93.930000</td>\n",
       "      <td>91.580002</td>\n",
       "      <td>3074000.0</td>\n",
       "      <td>86.950378</td>\n",
       "    </tr>\n",
       "    <tr>\n",
       "      <th>3</th>\n",
       "      <td>2017-11-16</td>\n",
       "      <td>92.769997</td>\n",
       "      <td>89.239998</td>\n",
       "      <td>92.000000</td>\n",
       "      <td>90.500000</td>\n",
       "      <td>2289000.0</td>\n",
       "      <td>85.924965</td>\n",
       "    </tr>\n",
       "    <tr>\n",
       "      <th>4</th>\n",
       "      <td>2017-11-17</td>\n",
       "      <td>91.440002</td>\n",
       "      <td>89.129997</td>\n",
       "      <td>91.019997</td>\n",
       "      <td>89.269997</td>\n",
       "      <td>1549200.0</td>\n",
       "      <td>84.757149</td>\n",
       "    </tr>\n",
       "    <tr>\n",
       "      <th>...</th>\n",
       "      <td>...</td>\n",
       "      <td>...</td>\n",
       "      <td>...</td>\n",
       "      <td>...</td>\n",
       "      <td>...</td>\n",
       "      <td>...</td>\n",
       "      <td>...</td>\n",
       "    </tr>\n",
       "    <tr>\n",
       "      <th>1254</th>\n",
       "      <td>2022-11-07</td>\n",
       "      <td>183.449997</td>\n",
       "      <td>178.130005</td>\n",
       "      <td>181.690002</td>\n",
       "      <td>183.089996</td>\n",
       "      <td>782300.0</td>\n",
       "      <td>183.089996</td>\n",
       "    </tr>\n",
       "    <tr>\n",
       "      <th>1255</th>\n",
       "      <td>2022-11-08</td>\n",
       "      <td>184.729996</td>\n",
       "      <td>180.089996</td>\n",
       "      <td>184.259995</td>\n",
       "      <td>182.639999</td>\n",
       "      <td>571200.0</td>\n",
       "      <td>182.639999</td>\n",
       "    </tr>\n",
       "    <tr>\n",
       "      <th>1256</th>\n",
       "      <td>2022-11-09</td>\n",
       "      <td>182.070007</td>\n",
       "      <td>175.240005</td>\n",
       "      <td>181.350006</td>\n",
       "      <td>175.350006</td>\n",
       "      <td>927900.0</td>\n",
       "      <td>175.350006</td>\n",
       "    </tr>\n",
       "    <tr>\n",
       "      <th>1257</th>\n",
       "      <td>2022-11-10</td>\n",
       "      <td>185.270004</td>\n",
       "      <td>180.800003</td>\n",
       "      <td>180.800003</td>\n",
       "      <td>183.529999</td>\n",
       "      <td>1009500.0</td>\n",
       "      <td>183.529999</td>\n",
       "    </tr>\n",
       "    <tr>\n",
       "      <th>1258</th>\n",
       "      <td>2022-11-11</td>\n",
       "      <td>187.580002</td>\n",
       "      <td>180.399994</td>\n",
       "      <td>183.289993</td>\n",
       "      <td>186.389999</td>\n",
       "      <td>765200.0</td>\n",
       "      <td>186.389999</td>\n",
       "    </tr>\n",
       "  </tbody>\n",
       "</table>\n",
       "<p>1259 rows × 7 columns</p>\n",
       "</div>"
      ],
      "text/plain": [
       "            Date        High         Low        Open       Close      Volume  \\\n",
       "0     2017-11-13   82.820000   80.459999   80.720001   82.279999   3894500.0   \n",
       "1     2017-11-14  102.889999   94.750000   94.879997   95.720001  10153800.0   \n",
       "2     2017-11-15   95.489998   91.370003   93.930000   91.580002   3074000.0   \n",
       "3     2017-11-16   92.769997   89.239998   92.000000   90.500000   2289000.0   \n",
       "4     2017-11-17   91.440002   89.129997   91.019997   89.269997   1549200.0   \n",
       "...          ...         ...         ...         ...         ...         ...   \n",
       "1254  2022-11-07  183.449997  178.130005  181.690002  183.089996    782300.0   \n",
       "1255  2022-11-08  184.729996  180.089996  184.259995  182.639999    571200.0   \n",
       "1256  2022-11-09  182.070007  175.240005  181.350006  175.350006    927900.0   \n",
       "1257  2022-11-10  185.270004  180.800003  180.800003  183.529999   1009500.0   \n",
       "1258  2022-11-11  187.580002  180.399994  183.289993  186.389999    765200.0   \n",
       "\n",
       "       Adj Close  \n",
       "0      78.120506  \n",
       "1      90.881088  \n",
       "2      86.950378  \n",
       "3      85.924965  \n",
       "4      84.757149  \n",
       "...          ...  \n",
       "1254  183.089996  \n",
       "1255  182.639999  \n",
       "1256  175.350006  \n",
       "1257  183.529999  \n",
       "1258  186.389999  \n",
       "\n",
       "[1259 rows x 7 columns]"
      ]
     },
     "execution_count": 69,
     "metadata": {},
     "output_type": "execute_result"
    }
   ],
   "source": [
    "aap_df\n"
   ]
  },
  {
   "cell_type": "code",
   "execution_count": 45,
   "metadata": {},
   "outputs": [
    {
     "data": {
      "text/html": [
       "<div>\n",
       "<style scoped>\n",
       "    .dataframe tbody tr th:only-of-type {\n",
       "        vertical-align: middle;\n",
       "    }\n",
       "\n",
       "    .dataframe tbody tr th {\n",
       "        vertical-align: top;\n",
       "    }\n",
       "\n",
       "    .dataframe thead th {\n",
       "        text-align: right;\n",
       "    }\n",
       "</style>\n",
       "<table border=\"1\" class=\"dataframe\">\n",
       "  <thead>\n",
       "    <tr style=\"text-align: right;\">\n",
       "      <th></th>\n",
       "      <th>Adj Close</th>\n",
       "      <th>Close</th>\n",
       "    </tr>\n",
       "  </thead>\n",
       "  <tbody>\n",
       "    <tr>\n",
       "      <th>0</th>\n",
       "      <td>78.120506</td>\n",
       "      <td>82.279999</td>\n",
       "    </tr>\n",
       "    <tr>\n",
       "      <th>1</th>\n",
       "      <td>90.881088</td>\n",
       "      <td>95.720001</td>\n",
       "    </tr>\n",
       "    <tr>\n",
       "      <th>2</th>\n",
       "      <td>86.950378</td>\n",
       "      <td>91.580002</td>\n",
       "    </tr>\n",
       "    <tr>\n",
       "      <th>3</th>\n",
       "      <td>85.924965</td>\n",
       "      <td>90.500000</td>\n",
       "    </tr>\n",
       "    <tr>\n",
       "      <th>4</th>\n",
       "      <td>84.757149</td>\n",
       "      <td>89.269997</td>\n",
       "    </tr>\n",
       "    <tr>\n",
       "      <th>...</th>\n",
       "      <td>...</td>\n",
       "      <td>...</td>\n",
       "    </tr>\n",
       "    <tr>\n",
       "      <th>1254</th>\n",
       "      <td>183.089996</td>\n",
       "      <td>183.089996</td>\n",
       "    </tr>\n",
       "    <tr>\n",
       "      <th>1255</th>\n",
       "      <td>182.639999</td>\n",
       "      <td>182.639999</td>\n",
       "    </tr>\n",
       "    <tr>\n",
       "      <th>1256</th>\n",
       "      <td>175.350006</td>\n",
       "      <td>175.350006</td>\n",
       "    </tr>\n",
       "    <tr>\n",
       "      <th>1257</th>\n",
       "      <td>183.529999</td>\n",
       "      <td>183.529999</td>\n",
       "    </tr>\n",
       "    <tr>\n",
       "      <th>1258</th>\n",
       "      <td>186.389999</td>\n",
       "      <td>186.389999</td>\n",
       "    </tr>\n",
       "  </tbody>\n",
       "</table>\n",
       "<p>1259 rows × 2 columns</p>\n",
       "</div>"
      ],
      "text/plain": [
       "       Adj Close       Close\n",
       "0      78.120506   82.279999\n",
       "1      90.881088   95.720001\n",
       "2      86.950378   91.580002\n",
       "3      85.924965   90.500000\n",
       "4      84.757149   89.269997\n",
       "...          ...         ...\n",
       "1254  183.089996  183.089996\n",
       "1255  182.639999  182.639999\n",
       "1256  175.350006  175.350006\n",
       "1257  183.529999  183.529999\n",
       "1258  186.389999  186.389999\n",
       "\n",
       "[1259 rows x 2 columns]"
      ]
     },
     "execution_count": 45,
     "metadata": {},
     "output_type": "execute_result"
    }
   ],
   "source": [
    "aap_df.columns\n",
    "aap_df[[\"Adj Close\", 'Close']]\n"
   ]
  },
  {
   "cell_type": "code",
   "execution_count": 47,
   "metadata": {},
   "outputs": [
    {
     "data": {
      "text/plain": [
       "235.71676635742188"
      ]
     },
     "execution_count": 47,
     "metadata": {},
     "output_type": "execute_result"
    }
   ],
   "source": [
    "aap_df[\"Adj Close\"].max()"
   ]
  },
  {
   "cell_type": "code",
   "execution_count": 38,
   "metadata": {},
   "outputs": [
    {
     "data": {
      "text/html": [
       "<div>\n",
       "<style scoped>\n",
       "    .dataframe tbody tr th:only-of-type {\n",
       "        vertical-align: middle;\n",
       "    }\n",
       "\n",
       "    .dataframe tbody tr th {\n",
       "        vertical-align: top;\n",
       "    }\n",
       "\n",
       "    .dataframe thead th {\n",
       "        text-align: right;\n",
       "    }\n",
       "</style>\n",
       "<table border=\"1\" class=\"dataframe\">\n",
       "  <thead>\n",
       "    <tr style=\"text-align: right;\">\n",
       "      <th></th>\n",
       "      <th>Adj Close</th>\n",
       "      <th>Close</th>\n",
       "    </tr>\n",
       "  </thead>\n",
       "  <tbody>\n",
       "    <tr>\n",
       "      <th>0</th>\n",
       "      <td>145.114578</td>\n",
       "      <td>146.307693</td>\n",
       "    </tr>\n",
       "    <tr>\n",
       "      <th>1</th>\n",
       "      <td>136.569443</td>\n",
       "      <td>137.692307</td>\n",
       "    </tr>\n",
       "    <tr>\n",
       "      <th>2</th>\n",
       "      <td>139.316086</td>\n",
       "      <td>140.461533</td>\n",
       "    </tr>\n",
       "    <tr>\n",
       "      <th>3</th>\n",
       "      <td>139.239792</td>\n",
       "      <td>140.384613</td>\n",
       "    </tr>\n",
       "    <tr>\n",
       "      <th>4</th>\n",
       "      <td>138.934586</td>\n",
       "      <td>140.076920</td>\n",
       "    </tr>\n",
       "    <tr>\n",
       "      <th>...</th>\n",
       "      <td>...</td>\n",
       "      <td>...</td>\n",
       "    </tr>\n",
       "    <tr>\n",
       "      <th>1254</th>\n",
       "      <td>83.459999</td>\n",
       "      <td>83.459999</td>\n",
       "    </tr>\n",
       "    <tr>\n",
       "      <th>1255</th>\n",
       "      <td>84.000000</td>\n",
       "      <td>84.000000</td>\n",
       "    </tr>\n",
       "    <tr>\n",
       "      <th>1256</th>\n",
       "      <td>83.150002</td>\n",
       "      <td>83.150002</td>\n",
       "    </tr>\n",
       "    <tr>\n",
       "      <th>1257</th>\n",
       "      <td>85.379997</td>\n",
       "      <td>85.379997</td>\n",
       "    </tr>\n",
       "    <tr>\n",
       "      <th>1258</th>\n",
       "      <td>86.309998</td>\n",
       "      <td>86.309998</td>\n",
       "    </tr>\n",
       "  </tbody>\n",
       "</table>\n",
       "<p>1259 rows × 2 columns</p>\n",
       "</div>"
      ],
      "text/plain": [
       "       Adj Close       Close\n",
       "0     145.114578  146.307693\n",
       "1     136.569443  137.692307\n",
       "2     139.316086  140.461533\n",
       "3     139.239792  140.384613\n",
       "4     138.934586  140.076920\n",
       "...          ...         ...\n",
       "1254   83.459999   83.459999\n",
       "1255   84.000000   84.000000\n",
       "1256   83.150002   83.150002\n",
       "1257   85.379997   85.379997\n",
       "1258   86.309998   86.309998\n",
       "\n",
       "[1259 rows x 2 columns]"
      ]
     },
     "execution_count": 38,
     "metadata": {},
     "output_type": "execute_result"
    }
   ],
   "source": [
    "ge_df[[\"Adj Close\", 'Close']]"
   ]
  },
  {
   "cell_type": "code",
   "execution_count": 48,
   "metadata": {},
   "outputs": [
    {
     "name": "stdout",
     "output_type": "stream",
     "text": [
      "235.71676635742188\n"
     ]
    }
   ],
   "source": []
  },
  {
   "cell_type": "code",
   "execution_count": 39,
   "metadata": {},
   "outputs": [
    {
     "data": {
      "text/html": [
       "<div>\n",
       "<style scoped>\n",
       "    .dataframe tbody tr th:only-of-type {\n",
       "        vertical-align: middle;\n",
       "    }\n",
       "\n",
       "    .dataframe tbody tr th {\n",
       "        vertical-align: top;\n",
       "    }\n",
       "\n",
       "    .dataframe thead th {\n",
       "        text-align: right;\n",
       "    }\n",
       "</style>\n",
       "<table border=\"1\" class=\"dataframe\">\n",
       "  <thead>\n",
       "    <tr style=\"text-align: right;\">\n",
       "      <th></th>\n",
       "      <th>Adj Close</th>\n",
       "      <th>Close</th>\n",
       "    </tr>\n",
       "  </thead>\n",
       "  <tbody>\n",
       "    <tr>\n",
       "      <th>0</th>\n",
       "      <td>30.304945</td>\n",
       "      <td>40.990002</td>\n",
       "    </tr>\n",
       "    <tr>\n",
       "      <th>1</th>\n",
       "      <td>30.312332</td>\n",
       "      <td>41.000000</td>\n",
       "    </tr>\n",
       "    <tr>\n",
       "      <th>2</th>\n",
       "      <td>29.964846</td>\n",
       "      <td>40.529999</td>\n",
       "    </tr>\n",
       "    <tr>\n",
       "      <th>3</th>\n",
       "      <td>30.179256</td>\n",
       "      <td>40.820000</td>\n",
       "    </tr>\n",
       "    <tr>\n",
       "      <th>4</th>\n",
       "      <td>30.142292</td>\n",
       "      <td>40.770000</td>\n",
       "    </tr>\n",
       "    <tr>\n",
       "      <th>...</th>\n",
       "      <td>...</td>\n",
       "      <td>...</td>\n",
       "    </tr>\n",
       "    <tr>\n",
       "      <th>1253</th>\n",
       "      <td>49.410000</td>\n",
       "      <td>49.410000</td>\n",
       "    </tr>\n",
       "    <tr>\n",
       "      <th>1254</th>\n",
       "      <td>49.919998</td>\n",
       "      <td>49.919998</td>\n",
       "    </tr>\n",
       "    <tr>\n",
       "      <th>1255</th>\n",
       "      <td>50.500000</td>\n",
       "      <td>50.500000</td>\n",
       "    </tr>\n",
       "    <tr>\n",
       "      <th>1256</th>\n",
       "      <td>52.570000</td>\n",
       "      <td>52.570000</td>\n",
       "    </tr>\n",
       "    <tr>\n",
       "      <th>1257</th>\n",
       "      <td>52.869999</td>\n",
       "      <td>52.869999</td>\n",
       "    </tr>\n",
       "  </tbody>\n",
       "</table>\n",
       "<p>1258 rows × 2 columns</p>\n",
       "</div>"
      ],
      "text/plain": [
       "      Adj Close      Close\n",
       "0     30.304945  40.990002\n",
       "1     30.312332  41.000000\n",
       "2     29.964846  40.529999\n",
       "3     30.179256  40.820000\n",
       "4     30.142292  40.770000\n",
       "...         ...        ...\n",
       "1253  49.410000  49.410000\n",
       "1254  49.919998  49.919998\n",
       "1255  50.500000  50.500000\n",
       "1256  52.570000  52.570000\n",
       "1257  52.869999  52.869999\n",
       "\n",
       "[1258 rows x 2 columns]"
      ]
     },
     "execution_count": 39,
     "metadata": {},
     "output_type": "execute_result"
    }
   ],
   "source": [
    "irm_df[[\"Adj Close\", 'Close']]"
   ]
  },
  {
   "cell_type": "code",
   "execution_count": 40,
   "metadata": {},
   "outputs": [
    {
     "data": {
      "text/html": [
       "<div>\n",
       "<style scoped>\n",
       "    .dataframe tbody tr th:only-of-type {\n",
       "        vertical-align: middle;\n",
       "    }\n",
       "\n",
       "    .dataframe tbody tr th {\n",
       "        vertical-align: top;\n",
       "    }\n",
       "\n",
       "    .dataframe thead th {\n",
       "        text-align: right;\n",
       "    }\n",
       "</style>\n",
       "<table border=\"1\" class=\"dataframe\">\n",
       "  <thead>\n",
       "    <tr style=\"text-align: right;\">\n",
       "      <th></th>\n",
       "      <th>Adj Close</th>\n",
       "      <th>Close</th>\n",
       "    </tr>\n",
       "  </thead>\n",
       "  <tbody>\n",
       "    <tr>\n",
       "      <th>0</th>\n",
       "      <td>27.556639</td>\n",
       "      <td>34.520000</td>\n",
       "    </tr>\n",
       "    <tr>\n",
       "      <th>1</th>\n",
       "      <td>27.516727</td>\n",
       "      <td>34.470001</td>\n",
       "    </tr>\n",
       "    <tr>\n",
       "      <th>2</th>\n",
       "      <td>27.524712</td>\n",
       "      <td>34.480000</td>\n",
       "    </tr>\n",
       "    <tr>\n",
       "      <th>3</th>\n",
       "      <td>27.596558</td>\n",
       "      <td>34.570000</td>\n",
       "    </tr>\n",
       "    <tr>\n",
       "      <th>4</th>\n",
       "      <td>27.923851</td>\n",
       "      <td>34.980000</td>\n",
       "    </tr>\n",
       "    <tr>\n",
       "      <th>...</th>\n",
       "      <td>...</td>\n",
       "      <td>...</td>\n",
       "    </tr>\n",
       "    <tr>\n",
       "      <th>1254</th>\n",
       "      <td>16.190001</td>\n",
       "      <td>16.190001</td>\n",
       "    </tr>\n",
       "    <tr>\n",
       "      <th>1255</th>\n",
       "      <td>16.510000</td>\n",
       "      <td>16.510000</td>\n",
       "    </tr>\n",
       "    <tr>\n",
       "      <th>1256</th>\n",
       "      <td>15.910000</td>\n",
       "      <td>15.910000</td>\n",
       "    </tr>\n",
       "    <tr>\n",
       "      <th>1257</th>\n",
       "      <td>18.750000</td>\n",
       "      <td>18.750000</td>\n",
       "    </tr>\n",
       "    <tr>\n",
       "      <th>1258</th>\n",
       "      <td>19.770000</td>\n",
       "      <td>19.770000</td>\n",
       "    </tr>\n",
       "  </tbody>\n",
       "</table>\n",
       "<p>1259 rows × 2 columns</p>\n",
       "</div>"
      ],
      "text/plain": [
       "      Adj Close      Close\n",
       "0     27.556639  34.520000\n",
       "1     27.516727  34.470001\n",
       "2     27.524712  34.480000\n",
       "3     27.596558  34.570000\n",
       "4     27.923851  34.980000\n",
       "...         ...        ...\n",
       "1254  16.190001  16.190001\n",
       "1255  16.510000  16.510000\n",
       "1256  15.910000  15.910000\n",
       "1257  18.750000  18.750000\n",
       "1258  19.770000  19.770000\n",
       "\n",
       "[1259 rows x 2 columns]"
      ]
     },
     "execution_count": 40,
     "metadata": {},
     "output_type": "execute_result"
    }
   ],
   "source": [
    "ivz_df[[\"Adj Close\", 'Close']]"
   ]
  },
  {
   "cell_type": "code",
   "execution_count": 41,
   "metadata": {},
   "outputs": [
    {
     "data": {
      "text/html": [
       "<div>\n",
       "<style scoped>\n",
       "    .dataframe tbody tr th:only-of-type {\n",
       "        vertical-align: middle;\n",
       "    }\n",
       "\n",
       "    .dataframe tbody tr th {\n",
       "        vertical-align: top;\n",
       "    }\n",
       "\n",
       "    .dataframe thead th {\n",
       "        text-align: right;\n",
       "    }\n",
       "</style>\n",
       "<table border=\"1\" class=\"dataframe\">\n",
       "  <thead>\n",
       "    <tr style=\"text-align: right;\">\n",
       "      <th></th>\n",
       "      <th>Adj Close</th>\n",
       "      <th>Close</th>\n",
       "    </tr>\n",
       "  </thead>\n",
       "  <tbody>\n",
       "    <tr>\n",
       "      <th>0</th>\n",
       "      <td>33.785347</td>\n",
       "      <td>42.290001</td>\n",
       "    </tr>\n",
       "    <tr>\n",
       "      <th>1</th>\n",
       "      <td>33.202152</td>\n",
       "      <td>41.560001</td>\n",
       "    </tr>\n",
       "    <tr>\n",
       "      <th>2</th>\n",
       "      <td>33.809315</td>\n",
       "      <td>42.320000</td>\n",
       "    </tr>\n",
       "    <tr>\n",
       "      <th>3</th>\n",
       "      <td>33.473782</td>\n",
       "      <td>41.900002</td>\n",
       "    </tr>\n",
       "    <tr>\n",
       "      <th>4</th>\n",
       "      <td>33.585617</td>\n",
       "      <td>42.040001</td>\n",
       "    </tr>\n",
       "    <tr>\n",
       "      <th>...</th>\n",
       "      <td>...</td>\n",
       "      <td>...</td>\n",
       "    </tr>\n",
       "    <tr>\n",
       "      <th>1253</th>\n",
       "      <td>70.370003</td>\n",
       "      <td>70.370003</td>\n",
       "    </tr>\n",
       "    <tr>\n",
       "      <th>1254</th>\n",
       "      <td>71.339996</td>\n",
       "      <td>71.339996</td>\n",
       "    </tr>\n",
       "    <tr>\n",
       "      <th>1255</th>\n",
       "      <td>72.190002</td>\n",
       "      <td>72.190002</td>\n",
       "    </tr>\n",
       "    <tr>\n",
       "      <th>1256</th>\n",
       "      <td>71.589996</td>\n",
       "      <td>71.589996</td>\n",
       "    </tr>\n",
       "    <tr>\n",
       "      <th>1257</th>\n",
       "      <td>72.639999</td>\n",
       "      <td>72.639999</td>\n",
       "    </tr>\n",
       "  </tbody>\n",
       "</table>\n",
       "<p>1258 rows × 2 columns</p>\n",
       "</div>"
      ],
      "text/plain": [
       "      Adj Close      Close\n",
       "0     33.785347  42.290001\n",
       "1     33.202152  41.560001\n",
       "2     33.809315  42.320000\n",
       "3     33.473782  41.900002\n",
       "4     33.585617  42.040001\n",
       "...         ...        ...\n",
       "1253  70.370003  70.370003\n",
       "1254  71.339996  71.339996\n",
       "1255  72.190002  72.190002\n",
       "1256  71.589996  71.589996\n",
       "1257  72.639999  72.639999\n",
       "\n",
       "[1258 rows x 2 columns]"
      ]
     },
     "execution_count": 41,
     "metadata": {},
     "output_type": "execute_result"
    }
   ],
   "source": [
    "trgp_df[[\"Adj Close\", 'Close']]"
   ]
  },
  {
   "cell_type": "code",
   "execution_count": 53,
   "metadata": {},
   "outputs": [
    {
     "name": "stdout",
     "output_type": "stream",
     "text": [
      "235.71676635742188 is the highest and 71.7120361328125 is the lowest price (Adj Close) AAP recorded\n",
      "145.3667449951172 is the highest and 43.81699752807617 is the lowest price (Adj Close) GE recorded\n",
      "57.720001220703125 is the highest and 19.081621170043945 is the lowest price (Adj Close) IRM recorded\n",
      "30.65396881103516 is the highest and 6.301447868347168 is the lowest price (Adj Close) IVZ recorded\n",
      "80.62999725341797 is the highest and 4.560298919677734 is the lowest price (Adj Close) TRGP recorded\n"
     ]
    }
   ],
   "source": [
    "aap_max_adjclose = aap_df[\"Adj Close\"].max()\n",
    "aap_min_adjclose = aap_df[\"Adj Close\"].min()\n",
    "\n",
    "ge_max_adjclose = ge_df[\"Adj Close\"].max()\n",
    "ge_min_adjclose = ge_df[\"Adj Close\"].min()\n",
    "\n",
    "irm_max_adjclose = irm_df[\"Adj Close\"].max()\n",
    "irm_min_adjclose = irm_df[\"Adj Close\"].min()\n",
    "\n",
    "ivz_max_adjclose = ivz_df[\"Adj Close\"].max()\n",
    "ivz_min_adjclose = ivz_df[\"Adj Close\"].min()\n",
    "\n",
    "trgp_max_adjclose = trgp_df[\"Adj Close\"].max()\n",
    "trgp_min_adjclose = trgp_df[\"Adj Close\"].min()\n",
    "\n",
    "\n",
    "print(f\"{aap_max_adjclose} is the highest and {aap_min_adjclose} is the lowest price (Adj Close) AAP recorded\")\n",
    "print(f\"{ge_max_adjclose} is the highest and {ge_min_adjclose} is the lowest price (Adj Close) GE recorded\")\n",
    "print(f\"{irm_max_adjclose} is the highest and {irm_min_adjclose} is the lowest price (Adj Close) IRM recorded\")\n",
    "print(f\"{ivz_max_adjclose} is the highest and {ivz_min_adjclose} is the lowest price (Adj Close) IVZ recorded\")\n",
    "print(f\"{trgp_max_adjclose} is the highest and {trgp_min_adjclose} is the lowest price (Adj Close) TRGP recorded\")"
   ]
  },
  {
   "cell_type": "code",
   "execution_count": 76,
   "metadata": {},
   "outputs": [
    {
     "name": "stdout",
     "output_type": "stream",
     "text": [
      "AAP: 0.1512993426872272 is the highest and -0.17697056796499805 is the lowest return\n",
      "GE: 0.137410982654356 is the highest and -0.16439405665838225 is the lowest return\n",
      "IRM: 0.11331238452590137 is the highest and -0.16298585781320443 is the lowest return\n",
      "IVZ: 0.1642459196574152 is the highest and -0.23740603980965064 is the lowest return\n",
      "TRGP: 0.3008091742118965 is the highest and -0.7530541755806611 is the lowest return\n",
      "Median and mean:\n",
      "AAP: 0.000691246949601045 is the mean and 0.0007168522075883743 is the median return\n",
      "GE: -0.00041301922674350086 is the mean and -0.0009652750869540912 is the median return\n",
      "IRM: 0.0004427407715091031 is the mean and 0.0010944990202921528 is the median return\n",
      "IVZ: -0.0002639728267258264 is the mean and 0.0007798067233404408 is the median return\n",
      "TRGP: 0.0006089805398225959 is the mean and 0.001832469281002157 is the median return\n"
     ]
    }
   ],
   "source": [
    "aap_log_returns = np.log(aap_df['Adj Close']/aap_df['Adj Close'].shift(1))\n",
    "ge_log_returns = np.log(ge_df['Adj Close']/ge_df['Adj Close'].shift(1))\n",
    "irm_log_returns = np.log(irm_df['Adj Close']/irm_df['Adj Close'].shift(1))\n",
    "ivz_log_returns = np.log(ivz_df['Adj Close']/ivz_df['Adj Close'].shift(1))\n",
    "trgp_log_returns = np.log(trgp_df['Adj Close']/trgp_df['Adj Close'].shift(1))\n",
    "\n",
    "aap_log_returns_min = aap_log_returns.min()\n",
    "ge_log_returns_min = ge_log_returns.min()\n",
    "irm_log_returns_min = irm_log_returns.min()\n",
    "ivz_log_returns_min = ivz_log_returns.min()\n",
    "trgp_log_returns_min = trgp_log_returns.min()\n",
    "\n",
    "aap_log_returns_max = aap_log_returns.max()\n",
    "ge_log_returns_max = ge_log_returns.max()\n",
    "irm_log_returns_max = irm_log_returns.max()\n",
    "ivz_log_returns_max = ivz_log_returns.max()\n",
    "trgp_log_returns_max = trgp_log_returns.max()\n",
    "\n",
    "print(f\"AAP: {aap_log_returns_max} is the highest and {aap_log_returns_min} is the lowest return\")\n",
    "print(f\"GE: {ge_log_returns_max} is the highest and {ge_log_returns_min} is the lowest return\")\n",
    "print(f\"IRM: {irm_log_returns_max} is the highest and {irm_log_returns_min} is the lowest return\")\n",
    "print(f\"IVZ: {ivz_log_returns_max} is the highest and {ivz_log_returns_min} is the lowest return\")\n",
    "print(f\"TRGP: {trgp_log_returns_max} is the highest and {trgp_log_returns_min} is the lowest return\")\n",
    "\n",
    "print(\"Median and mean:\")\n",
    "aap_log_returns_mean = aap_log_returns.mean()\n",
    "ge_log_returns_mean = ge_log_returns.mean()\n",
    "irm_log_returns_mean = irm_log_returns.mean()\n",
    "ivz_log_returns_mean = ivz_log_returns.mean()\n",
    "trgp_log_returns_mean = trgp_log_returns.mean()\n",
    "\n",
    "aap_log_returns_median = aap_log_returns.median()\n",
    "ge_log_returns_median = ge_log_returns.median()\n",
    "irm_log_returns_median = irm_log_returns.median()\n",
    "ivz_log_returns_median = ivz_log_returns.median()\n",
    "trgp_log_returns_median = trgp_log_returns.median()\n",
    "\n",
    "print(f\"AAP: {aap_log_returns_mean} is the mean and {aap_log_returns_median} is the median return\")\n",
    "print(f\"GE: {ge_log_returns_mean} is the mean and {ge_log_returns_median} is the median return\")\n",
    "print(f\"IRM: {irm_log_returns_mean} is the mean and {irm_log_returns_median} is the median return\")\n",
    "print(f\"IVZ: {ivz_log_returns_mean} is the mean and {ivz_log_returns_median} is the median return\")\n",
    "print(f\"TRGP: {trgp_log_returns_mean} is the mean and {trgp_log_returns_median} is the median return\")\n",
    "\n"
   ]
  },
  {
   "cell_type": "code",
   "execution_count": 90,
   "metadata": {},
   "outputs": [],
   "source": [
    "aap_recrod_gain = aap_log_returns.idxmax()\n",
    "ge_record_gain = ge_log_returns.idxmax()\n",
    "irm_recrod_gain = irm_log_returns.idxmax()\n",
    "ivz_record_gain = ivz_log_returns.idxmax()\n",
    "trgp_recrod_gain = trgp_log_returns.idxmax()\n",
    "\n",
    "aap_recrod_loss = aap_log_returns.idxmin()\n",
    "ge_record_loss = ge_log_returns.idxmin()\n",
    "irm_recrod_loss = irm_log_returns.idxmin()\n",
    "ivz_record_loss = ivz_log_returns.idxmin()\n",
    "trgp_recrod_loss = trgp_log_returns.idxmin()\n"
   ]
  },
  {
   "cell_type": "code",
   "execution_count": 103,
   "metadata": {},
   "outputs": [
    {
     "name": "stdout",
     "output_type": "stream",
     "text": [
      "Recrod return value is 0.8695886625981146 that belongs to AAP company\n"
     ]
    }
   ],
   "source": [
    "sum_aap = aap_log_returns.sum()\n",
    "sum_ge = ge_log_returns.sum()\n",
    "sum_irm = irm_log_returns.sum()\n",
    "sum_ivz = ivz_log_returns.sum()\n",
    "sum_trgp = trgp_log_returns.sum()\n",
    "\n",
    "max_value = max([sum_aap, sum_ge, sum_irm, sum_ivz, sum_trgp])\n",
    "\n",
    "print(f\"Recrod return value is {sum_aap} that belongs to AAP company\")\n",
    "\n"
   ]
  },
  {
   "cell_type": "code",
   "execution_count": 106,
   "metadata": {},
   "outputs": [
    {
     "data": {
      "text/plain": [
       "<Axes: >"
      ]
     },
     "execution_count": 106,
     "metadata": {},
     "output_type": "execute_result"
    },
    {
     "data": {
      "image/png": "[encoded data removed]",
      "text/plain": [
       "<Figure size 640x480 with 1 Axes>"
      ]
     },
     "metadata": {},
     "output_type": "display_data"
    }
   ],
   "source": [
    "aap_log_returns.plot()"
   ]
  },
  {
   "cell_type": "code",
   "execution_count": 107,
   "metadata": {},
   "outputs": [
    {
     "data": {
      "text/plain": [
       "<Axes: >"
      ]
     },
     "execution_count": 107,
     "metadata": {},
     "output_type": "execute_result"
    },
    {
     "data": {
      "image/png": "[encoded data removed]",
      "text/plain": [
       "<Figure size 640x480 with 1 Axes>"
      ]
     },
     "metadata": {},
     "output_type": "display_data"
    }
   ],
   "source": [
    "ge_log_returns.plot()"
   ]
  },
  {
   "cell_type": "code",
   "execution_count": 108,
   "metadata": {},
   "outputs": [
    {
     "data": {
      "text/plain": [
       "<Axes: >"
      ]
     },
     "execution_count": 108,
     "metadata": {},
     "output_type": "execute_result"
    },
    {
     "data": {
      "image/png": "[encoded data removed]",
      "text/plain": [
       "<Figure size 640x480 with 1 Axes>"
      ]
     },
     "metadata": {},
     "output_type": "display_data"
    }
   ],
   "source": [
    "irm_log_returns.plot()"
   ]
  },
  {
   "cell_type": "code",
   "execution_count": 109,
   "metadata": {},
   "outputs": [
    {
     "data": {
      "text/plain": [
       "<Axes: >"
      ]
     },
     "execution_count": 109,
     "metadata": {},
     "output_type": "execute_result"
    },
    {
     "data": {
      "image/png": "[encoded data removed]",
      "text/plain": [
       "<Figure size 640x480 with 1 Axes>"
      ]
     },
     "metadata": {},
     "output_type": "display_data"
    }
   ],
   "source": [
    "ivz_log_returns.plot()"
   ]
  },
  {
   "cell_type": "code",
   "execution_count": 110,
   "metadata": {},
   "outputs": [
    {
     "data": {
      "text/plain": [
       "<Axes: >"
      ]
     },
     "execution_count": 110,
     "metadata": {},
     "output_type": "execute_result"
    },
    {
     "data": {
      "image/png": "[encoded data removed]",
      "text/plain": [
       "<Figure size 640x480 with 1 Axes>"
      ]
     },
     "metadata": {},
     "output_type": "display_data"
    }
   ],
   "source": [
    "trgp_log_returns.plot()"
   ]
  },
  {
   "cell_type": "code",
   "execution_count": 126,
   "metadata": {},
   "outputs": [
    {
     "ename": "UnicodeDecodeError",
     "evalue": "'utf-8' codec can't decode byte 0xff in position 1753: invalid start byte",
     "output_type": "error",
     "traceback": [
      "\u001b[1;31m---------------------------------------------------------------------------\u001b[0m",
      "\u001b[1;31mUnicodeDecodeError\u001b[0m                        Traceback (most recent call last)",
      "\u001b[1;32mc:\\Users\\Windows 10\\Desktop\\midterm\\midterm Zhumagulova.ipynb Cell 20\u001b[0m line \u001b[0;36m1\n\u001b[1;32m----> <a href='vscode-notebook-cell:/c%3A/Users/Windows%2010/Desktop/midterm/midterm%20Zhumagulova.ipynb#X30sZmlsZQ%3D%3D?line=0'>1</a>\u001b[0m sp_df \u001b[39m=\u001b[39m pd\u001b[39m.\u001b[39;49mread_csv(\u001b[39m\"\u001b[39;49m\u001b[39mSP500.csv\u001b[39;49m\u001b[39m\"\u001b[39;49m)\n",
      "File \u001b[1;32mc:\\Users\\Windows 10\\AppData\\Local\\Programs\\Python\\Python311\\Lib\\site-packages\\pandas\\io\\parsers\\readers.py:948\u001b[0m, in \u001b[0;36mread_csv\u001b[1;34m(filepath_or_buffer, sep, delimiter, header, names, index_col, usecols, dtype, engine, converters, true_values, false_values, skipinitialspace, skiprows, skipfooter, nrows, na_values, keep_default_na, na_filter, verbose, skip_blank_lines, parse_dates, infer_datetime_format, keep_date_col, date_parser, date_format, dayfirst, cache_dates, iterator, chunksize, compression, thousands, decimal, lineterminator, quotechar, quoting, doublequote, escapechar, comment, encoding, encoding_errors, dialect, on_bad_lines, delim_whitespace, low_memory, memory_map, float_precision, storage_options, dtype_backend)\u001b[0m\n\u001b[0;32m    935\u001b[0m kwds_defaults \u001b[39m=\u001b[39m _refine_defaults_read(\n\u001b[0;32m    936\u001b[0m     dialect,\n\u001b[0;32m    937\u001b[0m     delimiter,\n\u001b[1;32m   (...)\u001b[0m\n\u001b[0;32m    944\u001b[0m     dtype_backend\u001b[39m=\u001b[39mdtype_backend,\n\u001b[0;32m    945\u001b[0m )\n\u001b[0;32m    946\u001b[0m kwds\u001b[39m.\u001b[39mupdate(kwds_defaults)\n\u001b[1;32m--> 948\u001b[0m \u001b[39mreturn\u001b[39;00m _read(filepath_or_buffer, kwds)\n",
      "File \u001b[1;32mc:\\Users\\Windows 10\\AppData\\Local\\Programs\\Python\\Python311\\Lib\\site-packages\\pandas\\io\\parsers\\readers.py:611\u001b[0m, in \u001b[0;36m_read\u001b[1;34m(filepath_or_buffer, kwds)\u001b[0m\n\u001b[0;32m    608\u001b[0m _validate_names(kwds\u001b[39m.\u001b[39mget(\u001b[39m\"\u001b[39m\u001b[39mnames\u001b[39m\u001b[39m\"\u001b[39m, \u001b[39mNone\u001b[39;00m))\n\u001b[0;32m    610\u001b[0m \u001b[39m# Create the parser.\u001b[39;00m\n\u001b[1;32m--> 611\u001b[0m parser \u001b[39m=\u001b[39m TextFileReader(filepath_or_buffer, \u001b[39m*\u001b[39;49m\u001b[39m*\u001b[39;49mkwds)\n\u001b[0;32m    613\u001b[0m \u001b[39mif\u001b[39;00m chunksize \u001b[39mor\u001b[39;00m iterator:\n\u001b[0;32m    614\u001b[0m     \u001b[39mreturn\u001b[39;00m parser\n",
      "File \u001b[1;32mc:\\Users\\Windows 10\\AppData\\Local\\Programs\\Python\\Python311\\Lib\\site-packages\\pandas\\io\\parsers\\readers.py:1448\u001b[0m, in \u001b[0;36mTextFileReader.__init__\u001b[1;34m(self, f, engine, **kwds)\u001b[0m\n\u001b[0;32m   1445\u001b[0m     \u001b[39mself\u001b[39m\u001b[39m.\u001b[39moptions[\u001b[39m\"\u001b[39m\u001b[39mhas_index_names\u001b[39m\u001b[39m\"\u001b[39m] \u001b[39m=\u001b[39m kwds[\u001b[39m\"\u001b[39m\u001b[39mhas_index_names\u001b[39m\u001b[39m\"\u001b[39m]\n\u001b[0;32m   1447\u001b[0m \u001b[39mself\u001b[39m\u001b[39m.\u001b[39mhandles: IOHandles \u001b[39m|\u001b[39m \u001b[39mNone\u001b[39;00m \u001b[39m=\u001b[39m \u001b[39mNone\u001b[39;00m\n\u001b[1;32m-> 1448\u001b[0m \u001b[39mself\u001b[39m\u001b[39m.\u001b[39m_engine \u001b[39m=\u001b[39m \u001b[39mself\u001b[39;49m\u001b[39m.\u001b[39;49m_make_engine(f, \u001b[39mself\u001b[39;49m\u001b[39m.\u001b[39;49mengine)\n",
      "File \u001b[1;32mc:\\Users\\Windows 10\\AppData\\Local\\Programs\\Python\\Python311\\Lib\\site-packages\\pandas\\io\\parsers\\readers.py:1723\u001b[0m, in \u001b[0;36mTextFileReader._make_engine\u001b[1;34m(self, f, engine)\u001b[0m\n\u001b[0;32m   1720\u001b[0m     \u001b[39mraise\u001b[39;00m \u001b[39mValueError\u001b[39;00m(msg)\n\u001b[0;32m   1722\u001b[0m \u001b[39mtry\u001b[39;00m:\n\u001b[1;32m-> 1723\u001b[0m     \u001b[39mreturn\u001b[39;00m mapping[engine](f, \u001b[39m*\u001b[39;49m\u001b[39m*\u001b[39;49m\u001b[39mself\u001b[39;49m\u001b[39m.\u001b[39;49moptions)\n\u001b[0;32m   1724\u001b[0m \u001b[39mexcept\u001b[39;00m \u001b[39mException\u001b[39;00m:\n\u001b[0;32m   1725\u001b[0m     \u001b[39mif\u001b[39;00m \u001b[39mself\u001b[39m\u001b[39m.\u001b[39mhandles \u001b[39mis\u001b[39;00m \u001b[39mnot\u001b[39;00m \u001b[39mNone\u001b[39;00m:\n",
      "File \u001b[1;32mc:\\Users\\Windows 10\\AppData\\Local\\Programs\\Python\\Python311\\Lib\\site-packages\\pandas\\io\\parsers\\c_parser_wrapper.py:93\u001b[0m, in \u001b[0;36mCParserWrapper.__init__\u001b[1;34m(self, src, **kwds)\u001b[0m\n\u001b[0;32m     90\u001b[0m \u001b[39mif\u001b[39;00m kwds[\u001b[39m\"\u001b[39m\u001b[39mdtype_backend\u001b[39m\u001b[39m\"\u001b[39m] \u001b[39m==\u001b[39m \u001b[39m\"\u001b[39m\u001b[39mpyarrow\u001b[39m\u001b[39m\"\u001b[39m:\n\u001b[0;32m     91\u001b[0m     \u001b[39m# Fail here loudly instead of in cython after reading\u001b[39;00m\n\u001b[0;32m     92\u001b[0m     import_optional_dependency(\u001b[39m\"\u001b[39m\u001b[39mpyarrow\u001b[39m\u001b[39m\"\u001b[39m)\n\u001b[1;32m---> 93\u001b[0m \u001b[39mself\u001b[39m\u001b[39m.\u001b[39m_reader \u001b[39m=\u001b[39m parsers\u001b[39m.\u001b[39;49mTextReader(src, \u001b[39m*\u001b[39;49m\u001b[39m*\u001b[39;49mkwds)\n\u001b[0;32m     95\u001b[0m \u001b[39mself\u001b[39m\u001b[39m.\u001b[39munnamed_cols \u001b[39m=\u001b[39m \u001b[39mself\u001b[39m\u001b[39m.\u001b[39m_reader\u001b[39m.\u001b[39munnamed_cols\n\u001b[0;32m     97\u001b[0m \u001b[39m# error: Cannot determine type of 'names'\u001b[39;00m\n",
      "File \u001b[1;32mparsers.pyx:579\u001b[0m, in \u001b[0;36mpandas._libs.parsers.TextReader.__cinit__\u001b[1;34m()\u001b[0m\n",
      "File \u001b[1;32mparsers.pyx:668\u001b[0m, in \u001b[0;36mpandas._libs.parsers.TextReader._get_header\u001b[1;34m()\u001b[0m\n",
      "File \u001b[1;32mparsers.pyx:879\u001b[0m, in \u001b[0;36mpandas._libs.parsers.TextReader._tokenize_rows\u001b[1;34m()\u001b[0m\n",
      "File \u001b[1;32mparsers.pyx:890\u001b[0m, in \u001b[0;36mpandas._libs.parsers.TextReader._check_tokenize_status\u001b[1;34m()\u001b[0m\n",
      "File \u001b[1;32mparsers.pyx:2050\u001b[0m, in \u001b[0;36mpandas._libs.parsers.raise_parser_error\u001b[1;34m()\u001b[0m\n",
      "\u001b[1;31mUnicodeDecodeError\u001b[0m: 'utf-8' codec can't decode byte 0xff in position 1753: invalid start byte"
     ]
    }
   ],
   "source": [
    "sp_df = pd.read_csv(\"SP500.csv\")"
   ]
  }
 ],
 "metadata": {
  "kernelspec": {
   "display_name": "Python 3",
   "language": "python",
   "name": "python3"
  },
  "language_info": {
   "codemirror_mode": {
    "name": "ipython",
    "version": 3
   },
   "file_extension": ".py",
   "mimetype": "text/x-python",
   "name": "python",
   "nbconvert_exporter": "python",
   "pygments_lexer": "ipython3",
   "version": "3.11.5"
  }
 },
 "nbformat": 4,
 "nbformat_minor": 2
}
